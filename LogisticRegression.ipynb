{
 "cells": [
  {
   "cell_type": "markdown",
   "metadata": {},
   "source": [
    "# Use-case - Your are being hired as a ML engineer. YOur role is to create a model that can predict whether the customer will purchase a product or not based on his/her age and estimated salary."
   ]
  },
  {
   "cell_type": "code",
   "execution_count": 1,
   "metadata": {},
   "outputs": [],
   "source": [
    "import numpy as np\n",
    "import pandas as pd"
   ]
  },
  {
   "cell_type": "code",
   "execution_count": 2,
   "metadata": {},
   "outputs": [],
   "source": [
    "data = pd.read_csv('Social_Network_Ads.csv')"
   ]
  },
  {
   "cell_type": "code",
   "execution_count": 3,
   "metadata": {},
   "outputs": [
    {
     "name": "stdout",
     "output_type": "stream",
     "text": [
      "<class 'pandas.core.frame.DataFrame'>\n",
      "RangeIndex: 400 entries, 0 to 399\n",
      "Data columns (total 5 columns):\n",
      "User ID            400 non-null int64\n",
      "Gender             400 non-null object\n",
      "Age                400 non-null int64\n",
      "EstimatedSalary    400 non-null int64\n",
      "Purchased          400 non-null int64\n",
      "dtypes: int64(4), object(1)\n",
      "memory usage: 15.7+ KB\n"
     ]
    }
   ],
   "source": [
    "data.info()"
   ]
  },
  {
   "cell_type": "code",
   "execution_count": 11,
   "metadata": {},
   "outputs": [
    {
     "data": {
      "text/plain": [
       "0    257\n",
       "1    143\n",
       "Name: Purchased, dtype: int64"
      ]
     },
     "execution_count": 11,
     "metadata": {},
     "output_type": "execute_result"
    }
   ],
   "source": [
    "#Check whether the dataset is a balanced dataset or not\n",
    "data.Purchased.value_counts()"
   ]
  },
  {
   "cell_type": "code",
   "execution_count": 4,
   "metadata": {},
   "outputs": [],
   "source": [
    "# Rules for Classification when it comes to Sklearn\n",
    "# 1. Data must be complete\n",
    "# 2. Data must be strictly numeric\n",
    "# 3. Data must be represented in the form of numpy array\n",
    "# 4. Features must be a 2d array, label must be 1d array"
   ]
  },
  {
   "cell_type": "code",
   "execution_count": 5,
   "metadata": {},
   "outputs": [],
   "source": [
    "#Seperate data with features and label\n",
    "features = data.iloc[:,[2,3]].values\n",
    "label = data.iloc[:,4].values"
   ]
  },
  {
   "cell_type": "code",
   "execution_count": 16,
   "metadata": {},
   "outputs": [],
   "source": [
    "#Train Test Split\n",
    "from sklearn.model_selection import train_test_split\n",
    "X_train,X_test,y_train,y_test = train_test_split(features,\n",
    "                                                label,\n",
    "                                                test_size=0.2,\n",
    "                                                random_state=4)"
   ]
  },
  {
   "cell_type": "code",
   "execution_count": 17,
   "metadata": {},
   "outputs": [
    {
     "data": {
      "text/plain": [
       "LogisticRegression(C=1.0, class_weight=None, dual=False, fit_intercept=True,\n",
       "          intercept_scaling=1, max_iter=100, multi_class='warn',\n",
       "          n_jobs=None, penalty='l2', random_state=None, solver='warn',\n",
       "          tol=0.0001, verbose=0, warm_start=False)"
      ]
     },
     "execution_count": 17,
     "metadata": {},
     "output_type": "execute_result"
    }
   ],
   "source": [
    "#Create the model\n",
    "from sklearn.linear_model import LogisticRegression\n",
    "model = LogisticRegression()\n",
    "model.fit(X_train,y_train)"
   ]
  },
  {
   "cell_type": "code",
   "execution_count": 18,
   "metadata": {},
   "outputs": [
    {
     "name": "stdout",
     "output_type": "stream",
     "text": [
      "0.790625\n",
      "0.8875\n"
     ]
    }
   ],
   "source": [
    "#Check the Quality of the model\n",
    "# 1. Check for Generalization\n",
    "# 2. Check for Score and identify whether the same is satisfactory or not\n",
    "\n",
    "print(model.score(X_train,y_train))\n",
    "print(model.score(X_test,y_test))"
   ]
  },
  {
   "cell_type": "code",
   "execution_count": 19,
   "metadata": {},
   "outputs": [],
   "source": [
    "#Question\n",
    "# 1. Threshold ---- 70%\n",
    "# 2. To get the list of good customers for voucher distribution\n",
    "#    1 ===> 0 (not tolerable)\n",
    "#   "
   ]
  },
  {
   "cell_type": "code",
   "execution_count": 20,
   "metadata": {},
   "outputs": [
    {
     "data": {
      "text/plain": [
       "array([[247,  10],\n",
       "       [ 66,  77]])"
      ]
     },
     "execution_count": 20,
     "metadata": {},
     "output_type": "execute_result"
    }
   ],
   "source": [
    "from sklearn.metrics import confusion_matrix\n",
    "cm = confusion_matrix(label, model.predict(features))\n",
    "cm"
   ]
  },
  {
   "cell_type": "code",
   "execution_count": 21,
   "metadata": {},
   "outputs": [
    {
     "name": "stdout",
     "output_type": "stream",
     "text": [
      "              precision    recall  f1-score   support\n",
      "\n",
      "           0       0.79      0.96      0.87       257\n",
      "           1       0.89      0.54      0.67       143\n",
      "\n",
      "   micro avg       0.81      0.81      0.81       400\n",
      "   macro avg       0.84      0.75      0.77       400\n",
      "weighted avg       0.82      0.81      0.80       400\n",
      "\n"
     ]
    }
   ],
   "source": [
    "from sklearn.metrics import classification_report\n",
    "print(classification_report(label, model.predict(features)))"
   ]
  },
  {
   "cell_type": "code",
   "execution_count": 15,
   "metadata": {},
   "outputs": [
    {
     "name": "stdout",
     "output_type": "stream",
     "text": [
      "Test 0.6875 Train 0.63125 Seed 3\n",
      "Test 0.8875 Train 0.790625 Seed 4\n",
      "Test 0.6625 Train 0.6375 Seed 5\n",
      "Test 0.675 Train 0.634375 Seed 7\n",
      "Test 0.675 Train 0.634375 Seed 8\n",
      "Test 0.65 Train 0.640625 Seed 10\n",
      "Test 0.6625 Train 0.6375 Seed 11\n",
      "Test 0.675 Train 0.634375 Seed 16\n",
      "Test 0.7 Train 0.628125 Seed 17\n",
      "Test 0.7 Train 0.628125 Seed 21\n",
      "Test 0.65 Train 0.640625 Seed 24\n",
      "Test 0.6625 Train 0.6375 Seed 25\n",
      "Test 0.875 Train 0.834375 Seed 26\n",
      "Test 0.675 Train 0.634375 Seed 27\n",
      "Test 0.7 Train 0.628125 Seed 28\n",
      "Test 0.6875 Train 0.63125 Seed 29\n",
      "Test 0.6875 Train 0.63125 Seed 31\n",
      "Test 0.6625 Train 0.6375 Seed 37\n",
      "Test 0.675 Train 0.640625 Seed 39\n",
      "Test 0.7 Train 0.628125 Seed 40\n",
      "Test 0.6625 Train 0.64375 Seed 42\n",
      "Test 0.85 Train 0.790625 Seed 46\n",
      "Test 0.65 Train 0.640625 Seed 48\n",
      "Test 0.675 Train 0.634375 Seed 50\n",
      "Test 0.65 Train 0.640625 Seed 51\n",
      "Test 0.65 Train 0.640625 Seed 54\n",
      "Test 0.65 Train 0.64375 Seed 56\n",
      "Test 0.6625 Train 0.6375 Seed 58\n",
      "Test 0.6875 Train 0.6375 Seed 59\n",
      "Test 0.7 Train 0.628125 Seed 60\n",
      "Test 0.6625 Train 0.6375 Seed 62\n",
      "Test 0.6875 Train 0.63125 Seed 63\n",
      "Test 0.65 Train 0.640625 Seed 66\n",
      "Test 0.65 Train 0.640625 Seed 74\n",
      "Test 0.65 Train 0.640625 Seed 75\n",
      "Test 0.6875 Train 0.63125 Seed 76\n",
      "Test 0.6875 Train 0.63125 Seed 80\n",
      "Test 0.675 Train 0.634375 Seed 81\n",
      "Test 0.7 Train 0.628125 Seed 83\n",
      "Test 0.675 Train 0.634375 Seed 84\n",
      "Test 0.675 Train 0.634375 Seed 86\n",
      "Test 0.65 Train 0.640625 Seed 87\n",
      "Test 0.675 Train 0.634375 Seed 90\n",
      "Test 0.675 Train 0.640625 Seed 91\n",
      "Test 0.7 Train 0.628125 Seed 93\n",
      "Test 0.85 Train 0.834375 Seed 94\n",
      "Test 0.65 Train 0.640625 Seed 97\n",
      "Test 0.7875 Train 0.784375 Seed 99\n",
      "Test 0.675 Train 0.634375 Seed 101\n",
      "Test 0.6625 Train 0.6375 Seed 102\n",
      "Test 0.725 Train 0.621875 Seed 103\n",
      "Test 0.65 Train 0.640625 Seed 106\n",
      "Test 0.65 Train 0.640625 Seed 109\n",
      "Test 0.675 Train 0.634375 Seed 116\n",
      "Test 0.65 Train 0.640625 Seed 117\n",
      "Test 0.675 Train 0.634375 Seed 119\n",
      "Test 0.65 Train 0.640625 Seed 120\n",
      "Test 0.6625 Train 0.6375 Seed 121\n",
      "Test 0.725 Train 0.653125 Seed 125\n",
      "Test 0.65 Train 0.640625 Seed 127\n",
      "Test 0.65 Train 0.640625 Seed 128\n",
      "Test 0.6875 Train 0.63125 Seed 129\n",
      "Test 0.6875 Train 0.63125 Seed 130\n",
      "Test 0.6625 Train 0.6375 Seed 132\n",
      "Test 0.6875 Train 0.63125 Seed 133\n",
      "Test 0.675 Train 0.634375 Seed 134\n",
      "Test 0.675 Train 0.640625 Seed 138\n",
      "Test 0.7 Train 0.628125 Seed 139\n",
      "Test 0.85 Train 0.840625 Seed 141\n",
      "Test 0.725 Train 0.621875 Seed 142\n",
      "Test 0.6625 Train 0.6375 Seed 143\n",
      "Test 0.6625 Train 0.6375 Seed 145\n",
      "Test 0.875 Train 0.8125 Seed 150\n",
      "Test 0.65 Train 0.640625 Seed 152\n",
      "Test 0.6625 Train 0.6375 Seed 154\n",
      "Test 0.675 Train 0.634375 Seed 155\n",
      "Test 0.6625 Train 0.6375 Seed 159\n",
      "Test 0.7125 Train 0.625 Seed 161\n",
      "Test 0.675 Train 0.634375 Seed 162\n",
      "Test 0.6625 Train 0.6375 Seed 163\n",
      "Test 0.65 Train 0.640625 Seed 165\n",
      "Test 0.6625 Train 0.6375 Seed 169\n",
      "Test 0.675 Train 0.634375 Seed 170\n",
      "Test 0.7125 Train 0.625 Seed 173\n",
      "Test 0.65 Train 0.640625 Seed 176\n",
      "Test 0.6625 Train 0.6375 Seed 178\n",
      "Test 0.6625 Train 0.6375 Seed 179\n",
      "Test 0.6625 Train 0.6375 Seed 180\n",
      "Test 0.6625 Train 0.6375 Seed 181\n",
      "Test 0.65 Train 0.640625 Seed 184\n",
      "Test 0.6625 Train 0.6375 Seed 185\n",
      "Test 0.675 Train 0.634375 Seed 188\n",
      "Test 0.7375 Train 0.61875 Seed 189\n",
      "Test 0.7 Train 0.628125 Seed 192\n",
      "Test 0.65 Train 0.640625 Seed 193\n",
      "Test 0.6875 Train 0.63125 Seed 194\n",
      "Test 0.65 Train 0.640625 Seed 195\n",
      "Test 0.6625 Train 0.6375 Seed 196\n",
      "Test 0.675 Train 0.634375 Seed 198\n"
     ]
    }
   ],
   "source": [
    "from sklearn.model_selection import train_test_split\n",
    "from sklearn.linear_model import LogisticRegression\n",
    "import warnings\n",
    "warnings.filterwarnings('ignore')\n",
    "for i in range(1,200):\n",
    "    \n",
    "    X_train,X_test,y_train,y_test = train_test_split(features,\n",
    "                                                label,\n",
    "                                                test_size=0.2,\n",
    "                                                random_state=i)\n",
    "    \n",
    "    model = LogisticRegression()\n",
    "    model.fit(X_train,y_train)\n",
    "    \n",
    "    train_score = model.score(X_train,y_train)\n",
    "    test_score = model.score(X_test,y_test)\n",
    "    \n",
    "    if test_score > train_score:\n",
    "        print('Test {} Train {} Seed {}'.format(test_score,train_score,i))"
   ]
  },
  {
   "cell_type": "code",
   "execution_count": 25,
   "metadata": {},
   "outputs": [
    {
     "name": "stdout",
     "output_type": "stream",
     "text": [
      "Test 0.8625 Train 0.846875 Seed 161\n",
      "Test 0.8625 Train 0.859375 Seed 170\n",
      "Test 0.8625 Train 0.853125 Seed 179\n",
      "Test 0.9125 Train 0.86875 Seed 192\n"
     ]
    }
   ],
   "source": [
    "from sklearn.model_selection import train_test_split\n",
    "from sklearn.neighbors import KNeighborsClassifier\n",
    "import warnings\n",
    "warnings.filterwarnings('ignore')\n",
    "for i in range(150,200):\n",
    "    \n",
    "    X_train,X_test,y_train,y_test = train_test_split(features,\n",
    "                                                label,\n",
    "                                                test_size=0.2,\n",
    "                                                random_state=i)\n",
    "    \n",
    "    model = KNeighborsClassifier()\n",
    "    model.fit(X_train,y_train)\n",
    "    \n",
    "    train_score = model.score(X_train,y_train)\n",
    "    test_score = model.score(X_test,y_test)\n",
    "    \n",
    "    if test_score > train_score:\n",
    "        print('Test {} Train {} Seed {}'.format(test_score,train_score,i))"
   ]
  },
  {
   "cell_type": "raw",
   "metadata": {},
   "source": [
    "Test 0.8625 Train 0.85625 Seed 17\n",
    "Test 0.8875 Train 0.875 Seed 59\n",
    "Test 0.8625 Train 0.84375 Seed 68\n",
    "Test 0.9 Train 0.84375 Seed 116\n",
    "Test 0.875 Train 0.853125 Seed 121\n",
    "Test 0.8625 Train 0.853125 Seed 125\n",
    "Test 0.8625 Train 0.846875 Seed 161\n",
    "Test 0.8625 Train 0.859375 Seed 170\n",
    "Test 0.8625 Train 0.853125 Seed 179\n",
    "Test 0.9125 Train 0.86875 Seed 192"
   ]
  },
  {
   "cell_type": "code",
   "execution_count": 26,
   "metadata": {},
   "outputs": [
    {
     "name": "stdout",
     "output_type": "stream",
     "text": [
      "0.86875\n",
      "0.9125\n"
     ]
    }
   ],
   "source": [
    "X_train,X_test,y_train,y_test = train_test_split(features,\n",
    "                                                label,\n",
    "                                                test_size=0.2,\n",
    "                                                random_state=192)\n",
    "    \n",
    "model1 = KNeighborsClassifier()\n",
    "model1.fit(X_train,y_train)\n",
    "    \n",
    "train_score = model1.score(X_train,y_train)\n",
    "test_score = model1.score(X_test,y_test)\n",
    "\n",
    "print(train_score)\n",
    "print(test_score)\n"
   ]
  },
  {
   "cell_type": "code",
   "execution_count": 27,
   "metadata": {},
   "outputs": [
    {
     "data": {
      "text/plain": [
       "array([[242,  15],\n",
       "       [ 34, 109]])"
      ]
     },
     "execution_count": 27,
     "metadata": {},
     "output_type": "execute_result"
    }
   ],
   "source": [
    "confusion_matrix(label, model1.predict(features))"
   ]
  },
  {
   "cell_type": "code",
   "execution_count": 28,
   "metadata": {},
   "outputs": [
    {
     "name": "stdout",
     "output_type": "stream",
     "text": [
      "              precision    recall  f1-score   support\n",
      "\n",
      "           0       0.88      0.94      0.91       257\n",
      "           1       0.88      0.76      0.82       143\n",
      "\n",
      "   micro avg       0.88      0.88      0.88       400\n",
      "   macro avg       0.88      0.85      0.86       400\n",
      "weighted avg       0.88      0.88      0.88       400\n",
      "\n"
     ]
    }
   ],
   "source": [
    "print(classification_report(label,model1.predict(features)))"
   ]
  },
  {
   "cell_type": "code",
   "execution_count": null,
   "metadata": {},
   "outputs": [],
   "source": []
  }
 ],
 "metadata": {
  "kernelspec": {
   "display_name": "Python 3",
   "language": "python",
   "name": "python3"
  },
  "language_info": {
   "codemirror_mode": {
    "name": "ipython",
    "version": 3
   },
   "file_extension": ".py",
   "mimetype": "text/x-python",
   "name": "python",
   "nbconvert_exporter": "python",
   "pygments_lexer": "ipython3",
   "version": "3.7.3"
  }
 },
 "nbformat": 4,
 "nbformat_minor": 2
}
